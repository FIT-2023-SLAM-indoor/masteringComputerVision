{
 "cells": [
  {
   "cell_type": "code",
   "execution_count": 3,
   "metadata": {},
   "outputs": [],
   "source": [
    "import torch\n",
    "import cv2 as cv\n",
    "import numpy as np\n",
    "import matplotlib.pyplot as plt"
   ]
  },
  {
   "cell_type": "markdown",
   "metadata": {},
   "source": [
    "квантование модели - техника уменьшения её размера и как следствие ускорения скорости инференса. Достигается это с помощью  \n",
    "изменения типа тензоров весов и/или активаций. Как известно, веса нейросети это типы данных с плавающей точкой. Квантование  \n",
    "же переводит их в инты. Достигается это, очевидно, домножением на некоторый скейл фактор (читай скаляр). Стратегия выбора  \n",
    "такого скаляра определяет различные способоы квантования. Однако в торче есть динамическое квантование, которое использует  \n",
    "не заранее заданный скаляр, а определяет его на основании значений данных, полученный в ходе рантайма. Попробуем разобраться  \n",
    "с этим."
   ]
  },
  {
   "cell_type": "markdown",
   "metadata": {},
   "source": [
    "Для подготовим нейросеть, которую будем квантовать. В качестве датасета возьмем FashionMNIST"
   ]
  },
  {
   "cell_type": "code",
   "execution_count": 59,
   "metadata": {},
   "outputs": [],
   "source": [
    "import torch.nn as nn \n",
    "\n",
    "class SimpleCNN(nn.Module):\n",
    "    def __init__(self):\n",
    "        super(SimpleCNN,self).__init__()\n",
    "\n",
    "        self.cnn1 = nn.Sequential(\n",
    "            nn.Conv2d(in_channels = 3, out_channels = 6,kernel_size=5,stride=1),\n",
    "            nn.ReLU(inplace=True),\n",
    "            nn.MaxPool2d(kernel_size=2,stride=2),\n",
    "\n",
    "            nn.Conv2d(in_channels = 6, out_channels = 16, kernel_size=5, stride=1),\n",
    "            nn.ReLU(inplace=True),\n",
    "            nn.MaxPool2d(kernel_size=2,stride=2),\n",
    "            nn.Flatten()\n",
    "        )\n",
    "\n",
    "        self.fc1 = nn.Sequential(\n",
    "           \n",
    "            nn.Linear(in_features=16*5*5, out_features=120),\n",
    "            nn.ReLU(inplace=True),\n",
    "\n",
    "            nn.Linear(120,84),\n",
    "            nn.ReLU(inplace=True),\n",
    "\n",
    "            nn.Linear(84,10)\n",
    "        )\n",
    "    \n",
    "    def forward(self,x):\n",
    "        out = self.cnn1(x)\n",
    "        #out = out.view(out.size()[0], -1)\n",
    "        out = self.fc1(out)\n",
    "        return out\n",
    "    "
   ]
  },
  {
   "cell_type": "code",
   "execution_count": 60,
   "metadata": {},
   "outputs": [],
   "source": [
    "from torchvision.datasets import CIFAR10\n",
    "import torchvision.transforms as T\n",
    "from torch.utils.data import DataLoader\n",
    "\n",
    "trainingData = CIFAR10(\n",
    "    root = \"./data/CIFAR10/\",\n",
    "    train = True,\n",
    "    download=False,\n",
    "    transform = T.ToTensor()\n",
    ")\n",
    "testData = CIFAR10(\n",
    "    root = \"./data/CIFAR10/\",\n",
    "    train = False,\n",
    "    download = False,\n",
    "    transform = T.ToTensor()\n",
    ")\n",
    "\n"
   ]
  },
  {
   "cell_type": "code",
   "execution_count": 169,
   "metadata": {},
   "outputs": [],
   "source": [
    "import copy\n",
    "def train(model, dl, lossFunc, optimizer, device):\n",
    "    size = len(dl.dataset)\n",
    "    for batch, (X,y) in enumerate(dl):\n",
    "        X, y = X.to(device), y.to(device)\n",
    "        optimizer.zero_grad()\n",
    "        out = model(X)\n",
    "        loss = lossFunc(out, y)\n",
    "        loss.backward()\n",
    "        optimizer.step()\n",
    "        if batch % 100 == 0:\n",
    "            loss, current = loss.item(), batch * len(X)\n",
    "            print(f\"loss: {loss:>7f}  [{current:>5d}/{size:>5d}]\")\n",
    "\n",
    "def validate(model, dl, lossFunc, device, toPrint=True):\n",
    "    size = len(dl.dataset)\n",
    "    numBatches = len(dl)\n",
    "    testLoss, correct = 0, 0\n",
    "    model = model.to('cpu')\n",
    "    with torch.no_grad():\n",
    "        for X, y in dl:\n",
    "            X, y = X.to(\"cpu\"), y.to(\"cpu\")\n",
    "            pred = model(X)\n",
    "            testLoss += lossFunc(pred, y).item()\n",
    "            correct += (pred.argmax(1) == y).type(torch.float).sum().item()\n",
    "    testLoss /= numBatches\n",
    "    correct /= size\n",
    "    if toPrint:\n",
    "        print(f\"Test Error: \\n Accuracy: {(100*correct):>0.1f}%, Avg loss: {testLoss:>8f} \\n\")\n",
    "    model = model.to(device)\n",
    "    return 100*correct\n",
    "\n",
    "def loop(model, traindl, testdl, optimizer, lossFunc, epochs, device):\n",
    "    bestAcc = 0.0\n",
    "    bestEp = 0\n",
    "    best = None\n",
    "    for epoch in range(epochs):\n",
    "        print(f\"Epoch {epoch+1}\\n-------------------------------\")\n",
    "        model.train()\n",
    "        train(model, traindl,lossFunc,optimizer, device)\n",
    "        model.eval()\n",
    "        acc = validate(model, testdl, lossFunc, device)\n",
    "        if acc > bestAcc:\n",
    "            bestAcc = acc\n",
    "            best = copy.deepcopy(model.state_dict())\n",
    "            bestEp = bestEp\n",
    "    return best, bestAcc\n"
   ]
  },
  {
   "cell_type": "code",
   "execution_count": 70,
   "metadata": {},
   "outputs": [
    {
     "name": "stdout",
     "output_type": "stream",
     "text": [
      "cuda:0\n"
     ]
    }
   ],
   "source": [
    "from torch.optim import SGD\n",
    "from torch.nn import CrossEntropyLoss\n",
    "trainDL = DataLoader(trainingData, shuffle=True, batch_size=64)\n",
    "testDL = DataLoader(testData, shuffle=True, batch_size=64)\n",
    "model = SimpleCNN()\n",
    "lossF = CrossEntropyLoss()\n",
    "optim = SGD(model.parameters(), lr=0.003, momentum=0.9)\n",
    "device = torch.device(\"cuda:0\" if torch.cuda.is_available() else \"cpu\")\n",
    "epochs = 10\n",
    "print(device)\n",
    "model = model.to(device)\n"
   ]
  },
  {
   "cell_type": "code",
   "execution_count": null,
   "metadata": {},
   "outputs": [],
   "source": [
    "loop(model, trainDL, testDL, optim, lossF, epochs, device)"
   ]
  },
  {
   "cell_type": "code",
   "execution_count": null,
   "metadata": {},
   "outputs": [],
   "source": [
    "#torch.save(model.state_dict(), './models/best.pth')\n",
    "trainDL = DataLoader(trainingData, shuffle=True, batch_size=64)\n",
    "testDL = DataLoader(testData, shuffle=True, batch_size=64)\n",
    "\n",
    "model = SimpleCNN()\n",
    "model.load_state_dict(torch.load(\"./models/best.pth\"))\n",
    "model = model.to(device)\n",
    "optim = torch.optim.Adam(model.parameters(), 0.0001)\n",
    "bestmodel, bestacc = loop(model, trainDL, testDL, optim, lossF, epochs, device)"
   ]
  },
  {
   "cell_type": "markdown",
   "metadata": {},
   "source": [
    "наверное 64% это максимум, который я получу"
   ]
  },
  {
   "cell_type": "markdown",
   "metadata": {},
   "source": [
    "Ладно вещи оказались намного сложнее, чем я думал. Сейчас со всем разберемся"
   ]
  },
  {
   "cell_type": "code",
   "execution_count": 158,
   "metadata": {},
   "outputs": [],
   "source": [
    "from torch.quantization import QuantStub, DeQuantStub\n",
    "\n",
    "class HUI(nn.Module):\n",
    "    def __init__(self):\n",
    "        super(HUI,self).__init__()\n",
    "\n",
    "        self.cnn1 = nn.Sequential(\n",
    "            nn.Conv2d(in_channels = 3, out_channels = 6,kernel_size=5,stride=1),\n",
    "            nn.ReLU(inplace=True)            \n",
    "        )\n",
    "        \n",
    "        self.maxpool1 = nn.MaxPool2d(kernel_size=2,stride=2)\n",
    "\n",
    "        self.cnn2 = nn.Sequential(\n",
    "            nn.Conv2d(in_channels = 6, out_channels = 16, kernel_size=5, stride=1),\n",
    "            nn.ReLU(inplace=True)\n",
    "        )\n",
    "        self.maxpool2 = self.maxpool1\n",
    "        self.flatten = nn.Flatten()\n",
    "\n",
    "        self.fc1 = nn.Sequential(\n",
    "            nn.Linear(in_features=16*5*5, out_features=120),\n",
    "            nn.ReLU(inplace=True)\n",
    "        )\n",
    "\n",
    "        self.fc2 = nn.Sequential(\n",
    "            nn.Linear(120,84),\n",
    "            nn.ReLU(inplace=True)\n",
    "        )\n",
    "        self.fc3 = nn.Linear(84,10)\n",
    "        \n",
    "    \n",
    "    def forward(self,x):\n",
    "        \n",
    "        #out = self.quant(x)\n",
    "        out = self.cnn1(x)        \n",
    "        out = self.maxpool1(out)\n",
    "        out = self.cnn2(out)\n",
    "        out = self.maxpool2(out)\n",
    "        out = self.flatten(out)\n",
    "        \n",
    "        out = self.fc1(out)\n",
    "        \n",
    "        out = self.fc2(out)\n",
    "        out = self.fc3(out)\n",
    "        #out = self.dequant(out) \n",
    "        \n",
    "        return out\n",
    "        \n",
    "    def fuse(self):\n",
    "        torch.quantization.fuse_modules(self.cnn1, ['0','1'], inplace= True)\n",
    "        torch.quantization.fuse_modules(self.cnn2, ['0','1'], inplace= True)\n",
    "        torch.quantization.fuse_modules(self.fc1, ['0','1'], inplace= True)\n",
    "        torch.quantization.fuse_modules(self.fc2, ['0','1'], inplace= True)\n",
    "        \n",
    "        \n"
   ]
  },
  {
   "cell_type": "markdown",
   "metadata": {},
   "source": [
    "#### Post training Static Quantization"
   ]
  },
  {
   "cell_type": "markdown",
   "metadata": {},
   "source": [
    "PTQ static квантует веса и активации уже после тренировки. Для того, чтобы вычислить верный \n",
    "scale фактор, ему требует калибровка на соотвествующем датасете. Помимо этого нужно выполнить  \n",
    "еще не сколько условий:\n",
    "1. необходимо указать где квантовать активации. Для этого используется (De)QuantStub\n",
    "2. зафьюзить слои. fuse_modules. Это нужно, чтобы во время калиброки функции активации и  \n",
    "   слои, предшествующие им были квантовались вместе.  \n",
    "\n",
    "PTQ static используется, когда важно сэкономить как объем памяти, так и время вычислений, что  \n",
    "как раз свойственно CNN"
   ]
  },
  {
   "cell_type": "code",
   "execution_count": 94,
   "metadata": {},
   "outputs": [],
   "source": [
    "import os\n",
    "def print_size_of_model(model):\n",
    "    torch.save(model.state_dict(), \"./models/temp.p\")\n",
    "    print('Size (MB):', os.path.getsize(\"./models/temp.p\")/1e6)\n",
    "    os.remove('./models/temp.p')"
   ]
  },
  {
   "cell_type": "markdown",
   "metadata": {},
   "source": [
    "Модифицируем нашу нейросеть. Добавляем Квантование активаций и фьюзим слои, которые  \n",
    "торч умеем фьюзить "
   ]
  },
  {
   "cell_type": "code",
   "execution_count": 167,
   "metadata": {},
   "outputs": [],
   "source": [
    "class staticlyQuantizedCNN(nn.Module):\n",
    "    def __init__(self,nonQuantizedModel):\n",
    "        super(staticlyQuantizedCNN, self).__init__()\n",
    "        self.nonQuantizedModel = nonQuantizedModel\n",
    "        self.quant = QuantStub()\n",
    "        self.dequant = DeQuantStub()\n",
    "    \n",
    "    def forward(self, x):\n",
    "        x = self.quant(x)\n",
    "        x = self.nonQuantizedModel(x)\n",
    "        x = self.dequant(x)\n",
    "        return x\n",
    "\n",
    "def fuseSQCNN(model:staticlyQuantizedCNN ) -> None:\n",
    "    torch.quantization.fuse_modules(model.nonQuantizedModel.cnn1, ['0','1'], inplace=True)\n",
    "    torch.quantization.fuse_modules(model.nonQuantizedModel.cnn1, ['3','4'], inplace=True)\n",
    "    torch.quantization.fuse_modules(model.nonQuantizedModel.fc1, ['0','1'], inplace=True)\n",
    "    torch.quantization.fuse_modules(model.nonQuantizedModel.fc1, ['2','3'], inplace=True)\n",
    "\n"
   ]
  },
  {
   "cell_type": "code",
   "execution_count": 171,
   "metadata": {},
   "outputs": [
    {
     "name": "stdout",
     "output_type": "stream",
     "text": [
      "original model'size\n",
      "Size (MB): 0.251591\n",
      "original model'accuracy\n",
      "Test Error: \n",
      " Accuracy: 63.4%, Avg loss: 1.222992 \n",
      "\n",
      "fused model's accuracy\n",
      "Test Error: \n",
      " Accuracy: 63.0%, Avg loss: 1.233569 \n",
      "\n",
      "fused model's size\n",
      "Size (MB): 0.070243\n",
      "nonfused quantizedModel model'accuracy\n",
      "Test Error: \n",
      " Accuracy: 62.7%, Avg loss: 1.248018 \n",
      "\n",
      "nonfused quantizedModel model'size\n",
      "Size (MB): 0.070243\n"
     ]
    }
   ],
   "source": [
    "bestModel = SimpleCNN()\n",
    "bestModel.load_state_dict(torch.load(\"./models/best.pth\")) \n",
    "bestModel = bestModel.cpu()\n",
    "bestModel.eval()\n",
    "model = staticlyQuantizedCNN(bestModel)\n",
    "model.eval()\n",
    "model = model.cpu()\n",
    "\n",
    "print (\"original model'size\")\n",
    "print_size_of_model(model)\n",
    "\n",
    "fuseSQCNN(model)\n",
    "model.qconfig = torch.quantization.default_qconfig\n",
    "torch.quantization.prepare(model, inplace=True)\n",
    "print(\"original model'accuracy\")\n",
    "validate(model, testDL, lossF, \"cpu\")\n",
    "torch.quantization.convert(model, inplace=True)\n",
    "print(\"fused model's accuracy\")\n",
    "validate(model, testDL, lossF, \"cpu\")\n",
    "print(\"fused model's size\")\n",
    "print_size_of_model(model)\n",
    "\n",
    "bestModel = SimpleCNN()\n",
    "bestModel.load_state_dict(torch.load(\"./models/best.pth\")) \n",
    "bestModel.eval()\n",
    "bestModel = bestModel.cpu()\n",
    "bestModel.eval()\n",
    "model = staticlyQuantizedCNN(bestModel)\n",
    "model.qconfig = torch.quantization.default_qconfig\n",
    "torch.quantization.prepare(model, inplace=True)\n",
    "validate(model, testDL, lossF, \"cpu\", toPrint=False)\n",
    "torch.quantization.convert(model, inplace=True)\n",
    "print(\"nonfused quantizedModel model'accuracy\")\n",
    "validate(model, testDL, lossF, \"cpu\")\n",
    "print(\"nonfused quantizedModel model'size\")\n",
    "print_size_of_model(model)\n",
    "\n"
   ]
  },
  {
   "cell_type": "markdown",
   "metadata": {},
   "source": [
    "Наглядная демонстрация почему необходимо фьюзить слои. Квантованная модель, у которой слои не были  \n",
    "слеплены вместе показывает просадку по точности, большую, чем та, где соотвествующие слои были слеплены  \n",
    "Отличия  в нашем случае не драматические, вероятнее всего из-за малого размера исходной нейросети. Хотя,  \n",
    "признаться, сжатие в размерах произошло значительное."
   ]
  },
  {
   "cell_type": "markdown",
   "metadata": {},
   "source": [
    "#### Quantization Aware Training for Static Quantization"
   ]
  },
  {
   "cell_type": "markdown",
   "metadata": {},
   "source": [
    "Quantization Aware Training - как следует из названия, этот метод предполагает моделирование  \n",
    "поведения квантования во время обучения, что дает большую точность по сравнению с другими методами.  \n",
    "Во время обучения все вычисления осуществляются с помощью чисел с плавающей точкой, но при этом  \n",
    "к ним добавляются fake_quants, чтобы симулировать поведение int8. После обучения, модель квантуется \n",
    "по правилам PTQ Static"
   ]
  },
  {
   "cell_type": "markdown",
   "metadata": {},
   "source": [
    "перепишем нашу нейронку "
   ]
  },
  {
   "cell_type": "code",
   "execution_count": 187,
   "metadata": {},
   "outputs": [],
   "source": [
    "class QAwareSimpleCNN(nn.Module):\n",
    "    def __init__(self):\n",
    "        super(QAwareSimpleCNN,self).__init__()\n",
    "\n",
    "        self.cnn1 = nn.Sequential(\n",
    "            nn.Conv2d(in_channels = 3, out_channels = 6,kernel_size=5,stride=1),\n",
    "            nn.ReLU(inplace=True),\n",
    "            nn.MaxPool2d(kernel_size=2,stride=2),\n",
    "\n",
    "            nn.Conv2d(in_channels = 6, out_channels = 16, kernel_size=5, stride=1),\n",
    "            nn.ReLU(inplace=True),\n",
    "            nn.MaxPool2d(kernel_size=2,stride=2),\n",
    "            nn.Flatten()\n",
    "        )\n",
    "\n",
    "        self.fc1 = nn.Sequential(\n",
    "           \n",
    "            nn.Linear(in_features=16*5*5, out_features=120),\n",
    "            nn.ReLU(inplace=True),\n",
    "\n",
    "            nn.Linear(120,84),\n",
    "            nn.ReLU(inplace=True),\n",
    "\n",
    "            nn.Linear(84,10)\n",
    "        )\n",
    "        self.quant = QuantStub()\n",
    "        self.dequant = DeQuantStub()\n",
    "    \n",
    "    def forward(self,x):\n",
    "        out = self.quant(x)\n",
    "        out = self.cnn1(out)\n",
    "        out = self.fc1(out)\n",
    "        out = self.dequant(out)\n",
    "        return out\n",
    "    \n",
    "    def fuse(self):\n",
    "        torch.quantization.fuse_modules(self.cnn1, ['0','1'], inplace=True)\n",
    "        torch.quantization.fuse_modules(self.cnn1, ['3','4'], inplace=True)\n",
    "        torch.quantization.fuse_modules(self.fc1, ['0','1'], inplace=True)\n",
    "        torch.quantization.fuse_modules(self.fc1, ['2','3'], inplace=True)"
   ]
  },
  {
   "cell_type": "code",
   "execution_count": 188,
   "metadata": {},
   "outputs": [
    {
     "name": "stderr",
     "output_type": "stream",
     "text": [
      "d:\\torch\\torch\\lib\\site-packages\\torch\\ao\\quantization\\observer.py:177: UserWarning: Please use quant_min and quant_max to specify the range for observers.                     reduce_range will be deprecated in a future release of PyTorch.\n",
      "  warnings.warn(\n"
     ]
    }
   ],
   "source": [
    "model = QAwareSimpleCNN()\n",
    "model.train()\n",
    "model.qconfig = torch.quantization.get_default_qat_qconfig('fbgemm')\n",
    "model.fuse()\n",
    "preparedModel = torch.quantization.prepare_qat(model)"
   ]
  },
  {
   "cell_type": "code",
   "execution_count": 189,
   "metadata": {},
   "outputs": [
    {
     "name": "stdout",
     "output_type": "stream",
     "text": [
      "cuda:0\n"
     ]
    }
   ],
   "source": [
    "trainDL = DataLoader(trainingData, shuffle=True, batch_size=64)\n",
    "testDL = DataLoader(testData, shuffle=True, batch_size=64)\n",
    "lossF = CrossEntropyLoss()\n",
    "optim = torch.optim.Adam(preparedModel.parameters(), 0.0001)\n",
    "device = torch.device(\"cuda:0\" if torch.cuda.is_available() else \"cpu\")\n",
    "epochs = 20\n",
    "print(device)\n",
    "preparedModel = preparedModel.to(device)"
   ]
  },
  {
   "cell_type": "code",
   "execution_count": null,
   "metadata": {},
   "outputs": [],
   "source": [
    "model, acc = loop(preparedModel,trainDL, testDL, optim, lossF, epochs, device)"
   ]
  },
  {
   "cell_type": "code",
   "execution_count": null,
   "metadata": {},
   "outputs": [],
   "source": [
    "optim = torch.optim.Adam(preparedModel.parameters(), 0.0001)\n",
    "model, acc = loop(preparedModel,trainDL, testDL, optim, lossF, epochs, device)"
   ]
  },
  {
   "cell_type": "code",
   "execution_count": 199,
   "metadata": {},
   "outputs": [
    {
     "name": "stdout",
     "output_type": "stream",
     "text": [
      "Test Error: \n",
      " Accuracy: 57.1%, Avg loss: 1.193975 \n",
      "\n"
     ]
    },
    {
     "data": {
      "text/plain": [
       "57.099999999999994"
      ]
     },
     "execution_count": 199,
     "metadata": {},
     "output_type": "execute_result"
    }
   ],
   "source": [
    "validate(preparedModel,testDL, lossF, device)"
   ]
  },
  {
   "cell_type": "code",
   "execution_count": 197,
   "metadata": {},
   "outputs": [
    {
     "name": "stdout",
     "output_type": "stream",
     "text": [
      "Size (MB): 0.280032\n",
      "Size (MB): 0.075653\n"
     ]
    }
   ],
   "source": [
    "preparedModel.eval()\n",
    "preparedModel = preparedModel.cpu()\n",
    "modelInt8 = torch.quantization.convert(preparedModel)\n",
    "print_size_of_model(preparedModel)\n",
    "print_size_of_model(modelInt8)"
   ]
  },
  {
   "cell_type": "code",
   "execution_count": null,
   "metadata": {},
   "outputs": [],
   "source": []
  }
 ],
 "metadata": {
  "kernelspec": {
   "display_name": "Python 3.9.1 64-bit (system)",
   "language": "python",
   "name": "python3"
  },
  "language_info": {
   "codemirror_mode": {
    "name": "ipython",
    "version": 3
   },
   "file_extension": ".py",
   "mimetype": "text/x-python",
   "name": "python",
   "nbconvert_exporter": "python",
   "pygments_lexer": "ipython3",
   "version": "3.9.1"
  },
  "orig_nbformat": 4,
  "vscode": {
   "interpreter": {
    "hash": "542f599d61b00c72a48eb08053fd90fda3d3b222ded49c567146420e527f55b7"
   }
  }
 },
 "nbformat": 4,
 "nbformat_minor": 2
}
