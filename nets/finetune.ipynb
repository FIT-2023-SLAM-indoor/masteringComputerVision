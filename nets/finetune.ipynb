{
 "cells": [
  {
   "cell_type": "code",
   "execution_count": 1,
   "metadata": {},
   "outputs": [],
   "source": [
    "import torch\n",
    "import cv2 as cv\n",
    "import numpy as np\n",
    "import matplotlib.pyplot as plt"
   ]
  },
  {
   "cell_type": "markdown",
   "metadata": {},
   "source": [
    "Испльзование заранее предобученной модели называется transfer learning. Оно бывает двух видов  \n",
    "\n",
    "`finetuning` - во время дообучения обновляются все веса, которые есть в модели  \n",
    "\n",
    "`feature extraction` - во время дообучения обновляются только веса последнего слоя. По сути  \n",
    "   мы используем предобученную нейросеть, как готовый извлекатель признаков и лишь по новому  \n",
    "   их комбинируем\n",
    "\n",
    "для примера возьмем resnet18"
   ]
  },
  {
   "cell_type": "markdown",
   "metadata": {},
   "source": [
    "Начнем с функции обучения "
   ]
  },
  {
   "cell_type": "code",
   "execution_count": 2,
   "metadata": {},
   "outputs": [],
   "source": [
    "import copy\n",
    "\n",
    "def train(model, dataloaders, optim, lossFunc, epochs, device):\n",
    "    \n",
    "    #эмулируем чекпоинты\n",
    "    bestWeights = copy.deepcopy(model.state_dict())\n",
    "    bestAcc = 0.0\n",
    "    for epoch in range(epochs):\n",
    "        print('Epoch {}/{}'.format(epoch, epochs - 1))\n",
    "        print('-' * 10)\n",
    "        for phase in ['train','val']:\n",
    "            if phase == 'train':\n",
    "                model.train()\n",
    "            else:\n",
    "                model.eval()\n",
    "            currentLoss = 0.0\n",
    "            currentCorrects = 0\n",
    "\n",
    "            for images, labels in dataloaders[phase]:\n",
    "                images = images.to(device)\n",
    "                labels = labels.to(device)\n",
    "                \n",
    "                optim.zero_grad()\n",
    "                # то же самое, что и with torch.no_grad(), но включается по булу\n",
    "                with torch.set_grad_enabled(phase == \"train\"):\n",
    "                    out = model(images)\n",
    "                    loss = lossFunc(out, labels)\n",
    "                    _, preds = torch.max(out, 1)\n",
    "                    if phase == \"train\":\n",
    "                        loss.backward()\n",
    "                        optim.step()\n",
    "                \n",
    "                currentLoss += loss.item() * images.size(0)\n",
    "                currentCorrects += torch.sum(preds == labels.data)\n",
    "\n",
    "            epochLoss = currentLoss / len(dataloaders[phase].dataset)\n",
    "            epochAcc = currentCorrects.double() / len(dataloaders[phase].dataset)\n",
    "\n",
    "            print('{} Loss: {:.4f} Acc: {:.4f}'.format(phase, epochLoss, epochAcc))\n",
    "\n",
    "            if phase == 'val' and epochAcc > bestAcc:\n",
    "                bestAcc = epochAcc\n",
    "                bestWeights = copy.deepcopy(model.state_dict())\n",
    "    print('Best val Acc: {:4f}'.format(bestAcc))\n",
    "    model.load_state_dict(bestWeights)\n",
    "    return model\n",
    "\n"
   ]
  },
  {
   "cell_type": "code",
   "execution_count": null,
   "metadata": {},
   "outputs": [],
   "source": []
  }
 ],
 "metadata": {
  "kernelspec": {
   "display_name": "Python 3.9.1 64-bit (system)",
   "language": "python",
   "name": "python3"
  },
  "language_info": {
   "codemirror_mode": {
    "name": "ipython",
    "version": 3
   },
   "file_extension": ".py",
   "mimetype": "text/x-python",
   "name": "python",
   "nbconvert_exporter": "python",
   "pygments_lexer": "ipython3",
   "version": "3.9.1"
  },
  "orig_nbformat": 4,
  "vscode": {
   "interpreter": {
    "hash": "542f599d61b00c72a48eb08053fd90fda3d3b222ded49c567146420e527f55b7"
   }
  }
 },
 "nbformat": 4,
 "nbformat_minor": 2
}
