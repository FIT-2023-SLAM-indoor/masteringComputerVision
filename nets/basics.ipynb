{
 "cells": [
  {
   "cell_type": "code",
   "execution_count": 2,
   "metadata": {},
   "outputs": [],
   "source": [
    "import torch\n",
    "import cv2 as cv\n",
    "import numpy as np\n",
    "import matplotlib.pyplot as plt"
   ]
  },
  {
   "cell_type": "markdown",
   "metadata": {},
   "source": [
    "Освежим в памяти основные этапы в торче. Потом разберемся с каждым по отдельности "
   ]
  },
  {
   "cell_type": "markdown",
   "metadata": {},
   "source": [
    "#### DataSets and DataLoaders"
   ]
  },
  {
   "cell_type": "code",
   "execution_count": 3,
   "metadata": {},
   "outputs": [],
   "source": [
    "from torch.utils.data import Dataset\n",
    "from torchvision import  datasets\n",
    "from torchvision.transforms import ToTensor"
   ]
  },
  {
   "cell_type": "markdown",
   "metadata": {},
   "source": [
    "по какой то странной причине вскод/джупитер дохнут, когда я пытаюсь подгрузить датасет, так что придется грузить из отдельного скрипта"
   ]
  },
  {
   "cell_type": "code",
   "execution_count": 5,
   "metadata": {},
   "outputs": [
    {
     "data": {
      "text/plain": [
       "True"
      ]
     },
     "execution_count": 5,
     "metadata": {},
     "output_type": "execute_result"
    }
   ],
   "source": [
    "torch.cuda.is_available()"
   ]
  },
  {
   "cell_type": "code",
   "execution_count": 11,
   "metadata": {},
   "outputs": [],
   "source": [
    "trainingData = datasets.FashionMNIST(\n",
    "    root = \"./data\",\n",
    "    train = True,\n",
    "    download=False,\n",
    "    transform = ToTensor()\n",
    ")\n",
    "testData = datasets.FashionMNIST(\n",
    "    root = \"./data\",\n",
    "    train = False,\n",
    "    download=False,\n",
    "    transform = ToTensor()\n",
    ")"
   ]
  },
  {
   "cell_type": "code",
   "execution_count": 12,
   "metadata": {},
   "outputs": [
    {
     "data": {
      "image/png": "[encoded data removed]",
      "text/plain": [
       "<Figure size 720x720 with 9 Axes>"
      ]
     },
     "metadata": {
      "needs_background": "light"
     },
     "output_type": "display_data"
    }
   ],
   "source": [
    "labels= {\n",
    "    0: \"T-Shirt\",\n",
    "    1: \"Trouser\",\n",
    "    2: \"Pullover\",\n",
    "    3: \"Dress\",\n",
    "    4: \"Coat\",\n",
    "    5: \"Sandal\",\n",
    "    6: \"Shirt\",\n",
    "    7: \"Sneaker\",\n",
    "    8: \"Bag\",\n",
    "    9: \"Ankle Boot\",\n",
    "}\n",
    "f = plt.figure(figsize = (10,10))\n",
    "cols, rows = 3,3\n",
    "for i in range(1,cols*rows + 1):\n",
    "    idx = torch.randint(len(trainingData),size=(1,)).item()\n",
    "    img, label = trainingData[idx]\n",
    "    f.add_subplot(rows, cols, i)\n",
    "    plt.title(labels[label])\n",
    "    plt.axis(\"off\")\n",
    "    plt.imshow(img.squeeze(), cmap=\"gray\")"
   ]
  },
  {
   "cell_type": "markdown",
   "metadata": {},
   "source": [
    "Класс Датасет это некоторая абстракция над файловой системой, чья задача загружать примеры в память. Очевидно, что можно писать кастомные загрузчики.  \n",
    "Для этого делаем новый класс и наследуемся от `Dataset`. Контракт следущий:\n",
    "1. \\_\\_init\\_\\_(*args) -> None -  объяснять, что такое инит не стоит. Главное помнить, что помимо очевидного в него лучше засунуть трансформы \n",
    "2. \\_\\_len\\_\\_() -> Integer - должен вернуть количество образцов\n",
    "3. \\_\\_getitem\\_\\_(Integer) -> Object - принимает индекс и возвращает соответствующий объект "
   ]
  },
  {
   "cell_type": "markdown",
   "metadata": {},
   "source": [
    "поскольку датасет дает нам один сэмпл за раз, а нейронкам мы все кормим минибатчами, нам нужен еще один слой между ними. В нашем случае это DataLoader"
   ]
  },
  {
   "cell_type": "code",
   "execution_count": 13,
   "metadata": {},
   "outputs": [],
   "source": [
    "from torch.utils.data import DataLoader\n",
    "trainDL = DataLoader(trainingData,batch_size=64,shuffle=True)\n",
    "testDL = DataLoader(testData,batch_size=64,shuffle=True)"
   ]
  },
  {
   "cell_type": "markdown",
   "metadata": {},
   "source": [
    "Теперь можем итерироваться "
   ]
  },
  {
   "cell_type": "code",
   "execution_count": 20,
   "metadata": {},
   "outputs": [
    {
     "name": "stdout",
     "output_type": "stream",
     "text": [
      "images,  torch.Size([64, 1, 28, 28])\n",
      "labels,  torch.Size([64])\n"
     ]
    },
    {
     "data": {
      "text/plain": [
       "Text(0.5, 1.0, 'Sneaker')"
      ]
     },
     "execution_count": 20,
     "metadata": {},
     "output_type": "execute_result"
    },
    {
     "data": {
      "image/png": "[encoded data removed]",
      "text/plain": [
       "<Figure size 432x288 with 1 Axes>"
      ]
     },
     "metadata": {
      "needs_background": "light"
     },
     "output_type": "display_data"
    }
   ],
   "source": [
    "trainImgs, trainLabels = next(iter(trainDL))\n",
    "print(\"images, \", trainImgs.size())\n",
    "print(\"labels, \", trainLabels.size())\n",
    "plt.imshow(trainImgs[0].squeeze(), cmap=\"gray\")\n",
    "plt.title(labels[trainLabels[0].item()])"
   ]
  },
  {
   "cell_type": "markdown",
   "metadata": {},
   "source": [
    "#### AutoGrad"
   ]
  },
  {
   "cell_type": "markdown",
   "metadata": {},
   "source": [
    "Попробуем просимулировать простейшую сетку с одним слоем"
   ]
  },
  {
   "cell_type": "code",
   "execution_count": 25,
   "metadata": {},
   "outputs": [],
   "source": [
    "x = torch.ones(5)\n",
    "y = torch.zeros(3)\n",
    "w = torch.randn(5,3,requires_grad=True)\n",
    "b = torch.randn(3, requires_grad=True)\n",
    "out = x @ w + b\n",
    "loss = torch.nn.functional.binary_cross_entropy_with_logits(out, y)"
   ]
  },
  {
   "cell_type": "markdown",
   "metadata": {},
   "source": [
    "все эти операции выстраиваются в граф вычислений\n",
    "\n",
    "x -> * -> + -> out -> CE -> loss  \n",
    "        |       |  \n",
    "        w     b  \n",
    "w и b это оптимизируемые параметры, так что мы хотим вычислить градиент фунции потерь  \n",
    "(кросс энтропии) относительно этих параметров"
   ]
  },
  {
   "cell_type": "markdown",
   "metadata": {},
   "source": [
    "Функции, которые применяются к тензорам, это объекты типа Function. Этот объект  \n",
    "знает, как вычислять прямой ход и производную, во время обратного распространения.  \n",
    "Ссылка на функцию обратного распространения хранится в в атрибуте grad_fn  "
   ]
  },
  {
   "cell_type": "code",
   "execution_count": 26,
   "metadata": {},
   "outputs": [
    {
     "name": "stdout",
     "output_type": "stream",
     "text": [
      "Gradient function for z = <AddBackward0 object at 0x00000232C2B3EA60>\n",
      "Gradient function for loss = <BinaryCrossEntropyWithLogitsBackward0 object at 0x00000232C23366D0>\n"
     ]
    }
   ],
   "source": [
    "print(f\"Gradient function for z = {out.grad_fn}\")\n",
    "print(f\"Gradient function for loss = {loss.grad_fn}\")"
   ]
  },
  {
   "cell_type": "markdown",
   "metadata": {},
   "source": [
    "теперь можно вычислить градиенты"
   ]
  },
  {
   "cell_type": "code",
   "execution_count": 27,
   "metadata": {},
   "outputs": [
    {
     "name": "stdout",
     "output_type": "stream",
     "text": [
      "tensor([[0.2429, 0.3128, 0.1796],\n",
      "        [0.2429, 0.3128, 0.1796],\n",
      "        [0.2429, 0.3128, 0.1796],\n",
      "        [0.2429, 0.3128, 0.1796],\n",
      "        [0.2429, 0.3128, 0.1796]])\n",
      "tensor([0.2429, 0.3128, 0.1796])\n"
     ]
    }
   ],
   "source": [
    "loss.backward()\n",
    "print(w.grad)\n",
    "print(b.grad)"
   ]
  },
  {
   "cell_type": "markdown",
   "metadata": {},
   "source": [
    "очевидно, что .grad можно звать только для тензоров, которые были помечены как requires_grad  \n",
    "backward можно звать только один раз. Если хочется больше, в параметрах кормим retain_graph=True   "
   ]
  },
  {
   "cell_type": "markdown",
   "metadata": {},
   "source": [
    "Градиент трекинг можно выключать. Нужно из соображений производительности или с целью  \n",
    "заморозки параметров при файнтюнинге "
   ]
  },
  {
   "cell_type": "code",
   "execution_count": 28,
   "metadata": {},
   "outputs": [
    {
     "name": "stdout",
     "output_type": "stream",
     "text": [
      "True\n",
      "False\n"
     ]
    }
   ],
   "source": [
    "out1 = x @ w + b \n",
    "print(out1.requires_grad)\n",
    "with torch.no_grad():\n",
    "    out1 = x @ w + b \n",
    "print(out1.requires_grad)\n"
   ]
  },
  {
   "cell_type": "code",
   "execution_count": null,
   "metadata": {},
   "outputs": [],
   "source": []
  }
 ],
 "metadata": {
  "kernelspec": {
   "display_name": "Python 3.9.1 64-bit (system)",
   "language": "python",
   "name": "python3"
  },
  "language_info": {
   "codemirror_mode": {
    "name": "ipython",
    "version": 3
   },
   "file_extension": ".py",
   "mimetype": "text/x-python",
   "name": "python",
   "nbconvert_exporter": "python",
   "pygments_lexer": "ipython3",
   "version": "3.9.1"
  },
  "orig_nbformat": 4,
  "vscode": {
   "interpreter": {
    "hash": "542f599d61b00c72a48eb08053fd90fda3d3b222ded49c567146420e527f55b7"
   }
  }
 },
 "nbformat": 4,
 "nbformat_minor": 2
}
